{
 "cells": [
  {
   "cell_type": "markdown",
   "metadata": {},
   "source": [
    "## 4.1. NumPy ndarray: 다차원 배열 객체"
   ]
  },
  {
   "cell_type": "code",
   "execution_count": 1,
   "metadata": {
    "collapsed": true
   },
   "outputs": [],
   "source": [
    "import numpy as np"
   ]
  },
  {
   "cell_type": "code",
   "execution_count": 49,
   "metadata": {
    "collapsed": true
   },
   "outputs": [],
   "source": [
    "data = np.random.randn(2,3) ## 난수를 2X3 배열로 data에 저장"
   ]
  },
  {
   "cell_type": "code",
   "execution_count": 50,
   "metadata": {
    "collapsed": false
   },
   "outputs": [
    {
     "data": {
      "text/plain": [
       "array([[ 0.49751058, -0.0280452 , -0.23275395],\n",
       "       [ 1.17513741, -0.85375885, -0.39380867]])"
      ]
     },
     "execution_count": 50,
     "metadata": {},
     "output_type": "execute_result"
    }
   ],
   "source": [
    "data"
   ]
  },
  {
   "cell_type": "code",
   "execution_count": 51,
   "metadata": {
    "collapsed": false
   },
   "outputs": [
    {
     "data": {
      "text/plain": [
       "numpy.ndarray"
      ]
     },
     "execution_count": 51,
     "metadata": {},
     "output_type": "execute_result"
    }
   ],
   "source": [
    "type(data) ## data는 ndarray 타입 변수 "
   ]
  },
  {
   "cell_type": "code",
   "execution_count": 52,
   "metadata": {
    "collapsed": false
   },
   "outputs": [
    {
     "name": "stdout",
     "output_type": "stream",
     "text": [
      "(2L, 3L)\n",
      "float64\n"
     ]
    }
   ],
   "source": [
    "print(data.shape) ## data의 디멘전 \n",
    "print(data.dtype) ## data에 들어있는 변수의 타입"
   ]
  },
  {
   "cell_type": "markdown",
   "metadata": {},
   "source": [
    "### 4.1.1. ndarray 생성"
   ]
  },
  {
   "cell_type": "code",
   "execution_count": 55,
   "metadata": {
    "collapsed": false
   },
   "outputs": [
    {
     "name": "stdout",
     "output_type": "stream",
     "text": [
      "<type 'list'>\n",
      "[ 6.   7.5  8.   0.   1. ]\n",
      "<type 'numpy.ndarray'>\n"
     ]
    }
   ],
   "source": [
    "data1 = [6,7.5,8,0,1] ## data1에 리스트(element가 5개) 저장 \n",
    "arr1 = np.array(data1) ## np.array로 리스트를 ndarray로 변환\n",
    "print(type(data1))\n",
    "print(arr1)\n",
    "print(type(arr1)) ## arr1은 ndarray 타입"
   ]
  },
  {
   "cell_type": "code",
   "execution_count": 56,
   "metadata": {
    "collapsed": false
   },
   "outputs": [
    {
     "name": "stdout",
     "output_type": "stream",
     "text": [
      "[[1 2 3 4]\n",
      " [5 6 7 8]]\n",
      "2\n",
      "(2L, 4L)\n"
     ]
    }
   ],
   "source": [
    "data2 = [[1,2,3,4],[5,6,7,8]] ## 리스트 내에 리스트를 포함\n",
    "arr2 = np.array(data2) ## data2를 2차원 배열로 변환\n",
    "print(arr2) \n",
    "print(arr2.ndim) ## arr2의 디멘젼 갯수 - 2차원 배열\n",
    "print(arr2.shape) ## arr2의 디멘젼"
   ]
  },
  {
   "cell_type": "code",
   "execution_count": 22,
   "metadata": {
    "collapsed": false
   },
   "outputs": [
    {
     "name": "stdout",
     "output_type": "stream",
     "text": [
      "[ 0.  0.  0.  0.  0.  0.  0.  0.  0.  0.]\n",
      "[[ 0.  0.  0.  0.  0.  0.]\n",
      " [ 0.  0.  0.  0.  0.  0.]\n",
      " [ 0.  0.  0.  0.  0.  0.]]\n"
     ]
    }
   ],
   "source": [
    "print(np.zeros(10)) ## 디멘젼에 해당하는 배열 생성 후, 0 대입\n",
    "print(np.zeros((3,6)))"
   ]
  },
  {
   "cell_type": "code",
   "execution_count": 59,
   "metadata": {
    "collapsed": false
   },
   "outputs": [
    {
     "name": "stdout",
     "output_type": "stream",
     "text": [
      "[[[[  3.28004071e-316   0.00000000e+000   1.69759669e-313   4.94065646e-324\n",
      "      3.28211247e-316]\n",
      "   [  3.28000202e-316   3.27912634e-316   1.90979627e-313   0.00000000e+000\n",
      "      0.00000000e+000]\n",
      "   [  3.28001452e-316   0.00000000e+000   2.33419543e-313   4.94065646e-324\n",
      "      3.28211050e-316]\n",
      "   [  3.28000252e-316   3.27912713e-316   2.54639501e-313   0.00000000e+000\n",
      "      0.00000000e+000]]\n",
      "\n",
      "  [[  3.28325436e-316   0.00000000e+000   2.75859459e-313   4.94065646e-324\n",
      "      3.28211445e-316]\n",
      "   [  3.28323993e-316   3.27912792e-316   3.60739290e-313   0.00000000e+000\n",
      "      0.00000000e+000]\n",
      "   [  3.28325243e-316   0.00000000e+000   4.03179206e-313   4.94065646e-324\n",
      "      3.28214014e-316]\n",
      "   [  3.28324042e-316   3.27912871e-316   5.30498954e-313   0.00000000e+000\n",
      "      0.00000000e+000]]\n",
      "\n",
      "  [[  3.16992756e-316   0.00000000e+000   5.51718912e-313   4.94065646e-324\n",
      "      3.28214212e-316]\n",
      "   [  3.16991313e-316   3.27912950e-316   6.36598743e-313   0.00000000e+000\n",
      "      0.00000000e+000]\n",
      "   [  3.16992563e-316   0.00000000e+000   6.79038659e-313   4.94065646e-324\n",
      "      3.28216978e-316]\n",
      "   [  3.16991362e-316   3.27913029e-316   7.63918491e-313   0.00000000e+000\n",
      "      0.00000000e+000]]]\n",
      "\n",
      "\n",
      " [[[  6.24014218e-085   0.00000000e+000   7.85138449e-313   1.27617563e-152\n",
      "      3.28217374e-316]\n",
      "   [  1.05161990e-153   3.27913108e-316   8.91238238e-313   1.35717392e+131\n",
      "      0.00000000e+000]\n",
      "   [  2.04739171e+161   0.00000000e+000   9.33678154e-313   4.94065646e-324\n",
      "      3.28220140e-316]\n",
      "   [  1.50886650e-316   3.27913148e-316   1.18831765e-312   0.00000000e+000\n",
      "      0.00000000e+000]]\n",
      "\n",
      "  [[  1.50195956e-321   0.00000000e+000   1.20953761e-312   6.36598737e-314\n",
      "      3.28214409e-316]\n",
      "   [  9.35756183e-317   3.27913227e-316   1.29441744e-312   0.00000000e+000\n",
      "      0.00000000e+000]\n",
      "   [  1.53154387e-316   0.00000000e+000   1.33685735e-312   1.39064994e-309\n",
      "      3.28486066e-316]\n",
      "   [  2.90440512e-316   3.27913306e-316   1.42173719e-312   0.00000000e+000\n",
      "      0.00000000e+000]]\n",
      "\n",
      "  [[  1.50240462e-316   0.00000000e+000   1.44295714e-312   1.05922698e-153\n",
      "      3.28486264e-316]\n",
      "   [  5.08183394e-316   2.63323551e-316   5.08193315e-316   2.33434189e-313\n",
      "      2.79441060e+179]\n",
      "   [  5.98129747e-154   2.38673119e-152   3.60867573e-317   1.53042367e-316\n",
      "      2.96439388e-323]\n",
      "   [  4.94065646e-324   2.47072427e-316   4.26124896e+257   0.00000000e+000\n",
      "      0.00000000e+000]]]]\n",
      "[ 0  1  2  3  4  5  6  7  8  9 10 11 12 13 14]\n"
     ]
    }
   ],
   "source": [
    "print(np.empty((2,3,4,5))) ## 3차원의 배열 생성 후, 0이 아닌 값 대입\n",
    "print(np.arange(15)) ## 0부터 15개의 연속적인 정수로 구성된 1차원 배열 생성 "
   ]
  },
  {
   "cell_type": "markdown",
   "metadata": {},
   "source": [
    "### 4.1.2. ndarray의 자료형"
   ]
  },
  {
   "cell_type": "code",
   "execution_count": 60,
   "metadata": {
    "collapsed": false
   },
   "outputs": [
    {
     "name": "stdout",
     "output_type": "stream",
     "text": [
      "float64\n",
      "int32\n"
     ]
    }
   ],
   "source": [
    "arr1 = np.array([1,2,3], dtype = np.float64)\n",
    "arr2 = np.array([1,2,3], dtype = np.int32)\n",
    "print(arr1.dtype)\n",
    "print(arr2.dtype)"
   ]
  },
  {
   "cell_type": "code",
   "execution_count": 25,
   "metadata": {
    "collapsed": false
   },
   "outputs": [
    {
     "name": "stdout",
     "output_type": "stream",
     "text": [
      "('int type : ', dtype('int32'))\n",
      "('float type : ', dtype('float64'))\n"
     ]
    }
   ],
   "source": [
    "arr = np.array([1,2,3,4,5])\n",
    "print(\"int type : \", arr.dtype)\n",
    "arr = arr.astype(np.float64) ## 타입을 플로트로 변경\n",
    "print(\"float type : \", arr.dtype)"
   ]
  },
  {
   "cell_type": "code",
   "execution_count": 61,
   "metadata": {
    "collapsed": false
   },
   "outputs": [
    {
     "name": "stdout",
     "output_type": "stream",
     "text": [
      "[ 3.7  2.8  3.1  4.2  5.4]\n",
      "('float type : ', dtype('float64'))\n",
      "[3 2 3 4 5]\n",
      "('int type : ', dtype('int32'))\n"
     ]
    }
   ],
   "source": [
    "arr = np.array([3.7,2.8,3.1,4.2,5.4])\n",
    "print(arr)\n",
    "print(\"float type : \", arr.dtype)\n",
    "arr = arr.astype(np.int32) ## 타입을 정수로 변경, 문자열도 숫자로 변환 가능\n",
    "print(arr) ## 소수점을 버림\n",
    "print(\"int type : \", arr.dtype)"
   ]
  },
  {
   "cell_type": "markdown",
   "metadata": {},
   "source": [
    "### 4.1.3. 배열과 스칼라 간의 연산"
   ]
  },
  {
   "cell_type": "code",
   "execution_count": 63,
   "metadata": {
    "collapsed": false
   },
   "outputs": [
    {
     "name": "stdout",
     "output_type": "stream",
     "text": [
      "[[ 1.  2.  3.]\n",
      " [ 4.  5.  6.]]\n",
      "[[  1.   4.   9.]\n",
      " [ 16.  25.  36.]]\n",
      "[[ 0.  0.  0.]\n",
      " [ 0.  0.  0.]]\n"
     ]
    }
   ],
   "source": [
    "arr = np.array([[1.,2.,3.,],[4.,5.,6.]]) ## Elementwise로 연산됨\n",
    "print(arr)\n",
    "print(arr*arr)\n",
    "print(arr-arr)"
   ]
  },
  {
   "cell_type": "markdown",
   "metadata": {},
   "source": [
    "### 4.1.4. 색인과 슬라이싱 기초"
   ]
  },
  {
   "cell_type": "code",
   "execution_count": 67,
   "metadata": {
    "collapsed": false
   },
   "outputs": [
    {
     "name": "stdout",
     "output_type": "stream",
     "text": [
      "[0 1 2 3 4 5 6 7 8 9]\n",
      "5\n",
      "[5 6 7]\n"
     ]
    }
   ],
   "source": [
    "arr = np.arange(10)\n",
    "print(arr)\n",
    "print(arr[5]) ## 5번째 원소 리턴\n",
    "print(arr[5:8]) ## 5~7번째 원소 리턴"
   ]
  },
  {
   "cell_type": "code",
   "execution_count": 68,
   "metadata": {
    "collapsed": false
   },
   "outputs": [
    {
     "name": "stdout",
     "output_type": "stream",
     "text": [
      "[0 1 2 3 4 5 6 7 8 9]\n"
     ]
    }
   ],
   "source": [
    "print(arr)"
   ]
  },
  {
   "cell_type": "code",
   "execution_count": 69,
   "metadata": {
    "collapsed": false
   },
   "outputs": [
    {
     "name": "stdout",
     "output_type": "stream",
     "text": [
      "[    0     1     2     3     4     5 12345     7     8     9]\n",
      "[ 0  1  2  3  4 77 77 77  8  9]\n"
     ]
    }
   ],
   "source": [
    "\n",
    "arr_slice = arr[5:8] ## arr_slice에 arr[5:8]이 복사되는 것이 아님 --> 주의\n",
    "arr_slice[1] = 12345 \n",
    "print(arr)\n",
    "arr_slice[:] = 77 \n",
    "print(arr)"
   ]
  },
  {
   "cell_type": "code",
   "execution_count": 70,
   "metadata": {
    "collapsed": false
   },
   "outputs": [],
   "source": [
    "arr2d = np.array([np.arange(3),np.arange(3)+3,np.arange(3)+6])"
   ]
  },
  {
   "cell_type": "code",
   "execution_count": 71,
   "metadata": {
    "collapsed": false
   },
   "outputs": [
    {
     "name": "stdout",
     "output_type": "stream",
     "text": [
      "[[0 1 2]\n",
      " [3 4 5]\n",
      " [6 7 8]]\n",
      "1\n",
      "1\n"
     ]
    }
   ],
   "source": [
    "print(arr2d)\n",
    "print(arr2d[0][1])\n",
    "print(arr2d[0,1])"
   ]
  },
  {
   "cell_type": "code",
   "execution_count": 72,
   "metadata": {
    "collapsed": false
   },
   "outputs": [
    {
     "data": {
      "text/plain": [
       "array([[0, 1, 2],\n",
       "       [3, 4, 5]])"
      ]
     },
     "execution_count": 72,
     "metadata": {},
     "output_type": "execute_result"
    }
   ],
   "source": [
    "arr2d[:2] ## 0,1번째 행 리턴"
   ]
  },
  {
   "cell_type": "code",
   "execution_count": 48,
   "metadata": {
    "collapsed": false
   },
   "outputs": [
    {
     "data": {
      "text/plain": [
       "array([[1, 2],\n",
       "       [4, 5]])"
      ]
     },
     "execution_count": 48,
     "metadata": {},
     "output_type": "execute_result"
    }
   ],
   "source": [
    "arr2d[:2,1:] ## 0,1번째 행 + 1,2번쨰 열 리턴"
   ]
  },
  {
   "cell_type": "markdown",
   "metadata": {},
   "source": [
    "### 4.1.5. 불리언 색인"
   ]
  },
  {
   "cell_type": "code",
   "execution_count": null,
   "metadata": {
    "collapsed": true
   },
   "outputs": [],
   "source": [
    "names"
   ]
  }
 ],
 "metadata": {
  "kernelspec": {
   "display_name": "Python 2",
   "language": "python",
   "name": "python2"
  },
  "language_info": {
   "codemirror_mode": {
    "name": "ipython",
    "version": 2
   },
   "file_extension": ".py",
   "mimetype": "text/x-python",
   "name": "python",
   "nbconvert_exporter": "python",
   "pygments_lexer": "ipython2",
   "version": "2.7.11"
  }
 },
 "nbformat": 4,
 "nbformat_minor": 0
}

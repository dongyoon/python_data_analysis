{
 "cells": [
  {
   "cell_type": "markdown",
   "metadata": {},
   "source": [
    "## Boosting a decision stump\n",
    "purpose: implementing boosting module with numpy and pandas library"
   ]
  },
  {
   "cell_type": "markdown",
   "metadata": {},
   "source": [
    "# 1. Import libraries"
   ]
  },
  {
   "cell_type": "code",
   "execution_count": 2,
   "metadata": {
    "collapsed": true
   },
   "outputs": [],
   "source": [
    "import numpy as np\n",
    "import pandas as pd\n",
    "import matplotlib.pyplot as plt\n",
    "%matplotlib inline"
   ]
  },
  {
   "cell_type": "markdown",
   "metadata": {},
   "source": [
    "# 1. Loading the data\n",
    "pandas file parsing functions\n",
    "\n",
    "1) read_csv : loading csv file with ',' separator\n",
    "\n",
    "2) read_table : loading text file with '\\t' separator(default)\n",
    "\n",
    "3) read_fwf : loading text file with fixed width\n",
    "\n",
    "4) read_clipboard : when copy the table from the web"
   ]
  },
  {
   "cell_type": "code",
   "execution_count": 16,
   "metadata": {
    "collapsed": false
   },
   "outputs": [],
   "source": [
    "loans = pd.read_csv('lending-club-data.csv')"
   ]
  },
  {
   "cell_type": "code",
   "execution_count": 17,
   "metadata": {
    "collapsed": false
   },
   "outputs": [
    {
     "name": "stdout",
     "output_type": "stream",
     "text": [
      "<class 'pandas.core.frame.DataFrame'>\n",
      "        id  member_id  loan_amnt  funded_amnt  funded_amnt_inv        term  \\\n",
      "0  1077501    1296599       5000         5000             4975   36 months   \n",
      "1  1077430    1314167       2500         2500             2500   60 months   \n",
      "2  1077175    1313524       2400         2400             2400   36 months   \n",
      "3  1076863    1277178      10000        10000            10000   36 months   \n",
      "4  1075269    1311441       5000         5000             5000   36 months   \n",
      "5  1072053    1288686       3000         3000             3000   36 months   \n",
      "6  1071795    1306957       5600         5600             5600   60 months   \n",
      "7  1071570    1306721       5375         5375             5350   60 months   \n",
      "8  1070078    1305201       6500         6500             6500   60 months   \n",
      "9  1069908    1305008      12000        12000            12000   36 months   \n",
      "\n",
      "   int_rate  installment grade sub_grade          ...          sub_grade_num  \\\n",
      "0     10.65       162.87     B        B2          ...                    0.4   \n",
      "1     15.27        59.83     C        C4          ...                    0.8   \n",
      "2     15.96        84.33     C        C5          ...                    1.0   \n",
      "3     13.49       339.31     C        C1          ...                    0.2   \n",
      "4      7.90       156.46     A        A4          ...                    0.8   \n",
      "5     18.64       109.43     E        E1          ...                    0.2   \n",
      "6     21.28       152.39     F        F2          ...                    0.4   \n",
      "7     12.69       121.45     B        B5          ...                    1.0   \n",
      "8     14.65       153.45     C        C3          ...                    0.6   \n",
      "9     12.69       402.54     B        B5          ...                    1.0   \n",
      "\n",
      "  delinq_2yrs_zero pub_rec_zero  collections_12_mths_zero short_emp  \\\n",
      "0              1.0          1.0                       1.0         0   \n",
      "1              1.0          1.0                       1.0         1   \n",
      "2              1.0          1.0                       1.0         0   \n",
      "3              1.0          1.0                       1.0         0   \n",
      "4              1.0          1.0                       1.0         0   \n",
      "5              1.0          1.0                       1.0         0   \n",
      "6              1.0          1.0                       1.0         0   \n",
      "7              1.0          1.0                       1.0         1   \n",
      "8              1.0          1.0                       1.0         0   \n",
      "9              1.0          1.0                       1.0         0   \n",
      "\n",
      "  payment_inc_ratio          final_d last_delinq_none last_record_none  \\\n",
      "0           8.14350  20141201T000000                1                1   \n",
      "1           2.39320  20161201T000000                1                1   \n",
      "2           8.25955  20141201T000000                1                1   \n",
      "3           8.27585  20141201T000000                0                1   \n",
      "4           5.21533  20141201T000000                1                1   \n",
      "5           2.73575  20141201T000000                1                1   \n",
      "6           4.57170  20161201T000000                1                1   \n",
      "7           9.71600  20161201T000000                1                1   \n",
      "8           2.55750  20161201T000000                1                1   \n",
      "9           6.44064  20141201T000000                1                1   \n",
      "\n",
      "  last_major_derog_none  \n",
      "0                     1  \n",
      "1                     1  \n",
      "2                     1  \n",
      "3                     1  \n",
      "4                     1  \n",
      "5                     1  \n",
      "6                     1  \n",
      "7                     1  \n",
      "8                     1  \n",
      "9                     1  \n",
      "\n",
      "[10 rows x 68 columns]\n"
     ]
    }
   ],
   "source": [
    "print(type(loans)) # Dataframe \n",
    "print(loans.head(10)) # show the first 10 rows of the file, default = 5"
   ]
  },
  {
   "cell_type": "code",
   "execution_count": 18,
   "metadata": {
    "collapsed": false
   },
   "outputs": [
    {
     "data": {
      "text/plain": [
       "pandas.core.frame.DataFrame"
      ]
     },
     "execution_count": 18,
     "metadata": {},
     "output_type": "execute_result"
    }
   ],
   "source": [
    "type(loans)"
   ]
  },
  {
   "cell_type": "code",
   "execution_count": 20,
   "metadata": {
    "collapsed": false
   },
   "outputs": [],
   "source": [
    "features = ['grade',              # grade of the loan\n",
    "            'term',               # the term of the loan\n",
    "            'home_ownership',     # home ownership status: own, mortgage or rent\n",
    "            'emp_length',         # number of years of employment\n",
    "           ]\n",
    "loans['safe_loans'] = loans['bad_loans'].apply(lambda x : +1 if x==0 else -1) # Make a safe_loans column \n",
    "loans.drop(['bad_loans'], axis =1) # Remove the bad_loans column\n",
    "target = 'safe_loans'\n",
    "loans = loans[features + [target]] # "
   ]
  },
  {
   "cell_type": "markdown",
   "metadata": {},
   "source": [
    "### Subsample dataset to make sure classes are balanced --> solve the imbalanced data problem"
   ]
  },
  {
   "cell_type": "code",
   "execution_count": 22,
   "metadata": {
    "collapsed": false
   },
   "outputs": [
    {
     "name": "stdout",
     "output_type": "stream",
     "text": [
      "Percentage of safe loans                 : 0.5\n",
      "Percentage of risky loans                : 0.5\n",
      "Total number of loans in our new dataset : 46300\n"
     ]
    }
   ],
   "source": [
    "np.random.seed(1) # Assign the seed\n",
    "\n",
    "safe_loans_raw = loans[loans[target] == 1]\n",
    "risky_loans_raw = loans[loans[target] == -1]\n",
    "\n",
    "# Undersample the safe loans.\n",
    "percentage = len(risky_loans_raw)/float(len(safe_loans_raw))\n",
    "risky_loans = risky_loans_raw\n",
    "safe_loans = safe_loans_raw.sample(frac = percentage) # sampling in the datafame with fraction\n",
    "loans_data = risky_loans_raw.append(safe_loans)\n",
    "\n",
    "print \"Percentage of safe loans                 :\", len(safe_loans) / float(len(loans_data))\n",
    "print \"Percentage of risky loans                :\", len(risky_loans) / float(len(loans_data))\n",
    "print \"Total number of loans in our new dataset :\", len(loans_data)"
   ]
  },
  {
   "cell_type": "markdown",
   "metadata": {},
   "source": [
    "### Transform categorical data into binary features\n",
    "\n",
    "In this assignment, we will work with binary decision trees"
   ]
  },
  {
   "cell_type": "code",
   "execution_count": 25,
   "metadata": {
    "collapsed": false
   },
   "outputs": [
    {
     "name": "stdout",
     "output_type": "stream",
     "text": [
      "term\n"
     ]
    },
    {
     "data": {
      "text/plain": [
       "1     {u' 60 months': 1}\n",
       "6     {u' 60 months': 1}\n",
       "7     {u' 60 months': 1}\n",
       "10    {u' 36 months': 1}\n",
       "12    {u' 36 months': 1}\n",
       "Name: term, dtype: object"
      ]
     },
     "execution_count": 25,
     "metadata": {},
     "output_type": "execute_result"
    }
   ],
   "source": [
    "loans_data = risky_loans.append(safe_loans)\n",
    "feature = features[1]\n",
    "print(feature)\n",
    "loans_data_one_hot_encoded = loans_data[feature].apply(lambda x: {x: 1})\n",
    "loans_data_one_hot_encoded.head()"
   ]
  },
  {
   "cell_type": "code",
   "execution_count": 27,
   "metadata": {
    "collapsed": false
   },
   "outputs": [
    {
     "data": {
      "text/plain": [
       "pandas.core.series.Series"
      ]
     },
     "execution_count": 27,
     "metadata": {},
     "output_type": "execute_result"
    }
   ],
   "source": [
    "type(loans_data_one_hot_encoded)"
   ]
  },
  {
   "cell_type": "code",
   "execution_count": null,
   "metadata": {
    "collapsed": true
   },
   "outputs": [],
   "source": []
  }
 ],
 "metadata": {
  "kernelspec": {
   "display_name": "Python 2",
   "language": "python",
   "name": "python2"
  },
  "language_info": {
   "codemirror_mode": {
    "name": "ipython",
    "version": 2
   },
   "file_extension": ".py",
   "mimetype": "text/x-python",
   "name": "python",
   "nbconvert_exporter": "python",
   "pygments_lexer": "ipython2",
   "version": "2.7.11"
  }
 },
 "nbformat": 4,
 "nbformat_minor": 0
}
